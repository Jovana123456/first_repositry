{
 "cells": [
  {
   "cell_type": "code",
   "execution_count": 3,
   "id": "b70f696c-98be-4fbf-b9d9-bc1d58427e42",
   "metadata": {},
   "outputs": [],
   "source": [
    "import seaborn as sns\n",
    "# changed the library name "
   ]
  },
  {
   "cell_type": "code",
   "execution_count": null,
   "id": "45676386-feb1-4640-b7b1-d7eaefea2518",
   "metadata": {},
   "outputs": [],
   "source": []
  }
 ],
 "metadata": {
  "kernelspec": {
   "display_name": "Python 3 (ipykernel)",
   "language": "python",
   "name": "python3"
  },
  "language_info": {
   "codemirror_mode": {
    "name": "ipython",
    "version": 3
   },
   "file_extension": ".py",
   "mimetype": "text/x-python",
   "name": "python",
   "nbconvert_exporter": "python",
   "pygments_lexer": "ipython3",
   "version": "3.9.13"
  }
 },
 "nbformat": 4,
 "nbformat_minor": 5
}
